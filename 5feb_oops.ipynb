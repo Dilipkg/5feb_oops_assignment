{
 "cells": [
  {
   "cell_type": "markdown",
   "id": "1085d72e-cace-4a00-93ec-198aeb67b2c2",
   "metadata": {},
   "source": [
    "Q1.\n",
    "A python class is consider plue print of object"
   ]
  },
  {
   "cell_type": "markdown",
   "id": "821c44f5-b8a1-4087-8290-485541e3ed16",
   "metadata": {},
   "source": [
    "# this is class in python \n",
    "class student:\n",
    "#variable in side the class\n",
    "    student_name=\"mohan\"\n",
    "    student_mark=23\n",
    "    #this is object of class\n",
    "obj=student()\n",
    "obj.student_name"
   ]
  },
  {
   "cell_type": "markdown",
   "id": "7f4f12d0-85c6-4ec6-bfb2-c4c281ef70ce",
   "metadata": {},
   "source": [
    "Q2. four pillar of oops\n",
    "1.abstract\n",
    "2.encapsulation\n",
    "3.inheritance\n",
    "4.polymorphism\n"
   ]
  },
  {
   "cell_type": "markdown",
   "id": "e5020736-4d00-4b3e-b992-c4f9e3c867c6",
   "metadata": {},
   "source": [
    "Q3.\n",
    "__init__ is a spacile python method that runs whenever a new object is create . these types of function are sue to innitialize the attribute of that class.\n"
   ]
  },
  {
   "cell_type": "markdown",
   "id": "fb086abe-e454-4835-9143-f5c6952f0266",
   "metadata": {},
   "source": [
    "E.g.\n",
    "class student:\n",
    "    def __init__(self,name,mark):\n",
    "        self.name=name\n",
    "        self.mark=mark\n",
    "p=student(\"mohan\",24)\n",
    "p.name"
   ]
  },
  {
   "cell_type": "markdown",
   "id": "ad582be7-61df-41ba-99f3-b152ef70e3e7",
   "metadata": {},
   "source": [
    "Q4\n",
    "python uses the self parameter to refer to instance attribute and method of class."
   ]
  },
  {
   "cell_type": "markdown",
   "id": "ac18d5f4-1bfb-4f6d-a953-e263c8ec6cf8",
   "metadata": {},
   "source": [
    "class student:\n",
    "    def __init__(self,name,mark,age):\n",
    "        self.name=name\n",
    "        self.mark=mark\n",
    "        self.age=age\n",
    "    def pre(self):\n",
    "        print(\"student name\", self.name)\n",
    "        print(\"student mark\", self.mark)\n",
    "        print(\"student age\", self.age)\n",
    "student1=student(\"mohan\",98,24)\n",
    "student1.mark"
   ]
  },
  {
   "cell_type": "markdown",
   "id": "91269b5e-4560-4526-b214-9b1e9130ed80",
   "metadata": {},
   "source": [
    "Q5.\n",
    "Inheritance depend upon the number of child and parent classes involved. there are four type of inheritance in python\n"
   ]
  },
  {
   "cell_type": "markdown",
   "id": "4d723430-9ff5-407d-af0a-f9cf3e44187c",
   "metadata": {},
   "source": [
    "class parent:\n",
    "    def func1(self):\n",
    "        print(\"this is function1 \")\n",
    "class child(parent):\n",
    "    def fun2(self):\n",
    "        print(\"this is function2\")\n",
    "object=child()\n",
    "object.func1()"
   ]
  },
  {
   "cell_type": "code",
   "execution_count": 28,
   "id": "7fd13b2b-b09d-4764-8345-1b85296ade0c",
   "metadata": {},
   "outputs": [
    {
     "name": "stdout",
     "output_type": "stream",
     "text": [
      "this is function1 \n"
     ]
    }
   ],
   "source": [
    "object.func1()"
   ]
  },
  {
   "cell_type": "code",
   "execution_count": null,
   "id": "aedca284-5b57-4601-92f8-59b3f51b7d34",
   "metadata": {},
   "outputs": [],
   "source": []
  }
 ],
 "metadata": {
  "kernelspec": {
   "display_name": "Python 3 (ipykernel)",
   "language": "python",
   "name": "python3"
  },
  "language_info": {
   "codemirror_mode": {
    "name": "ipython",
    "version": 3
   },
   "file_extension": ".py",
   "mimetype": "text/x-python",
   "name": "python",
   "nbconvert_exporter": "python",
   "pygments_lexer": "ipython3",
   "version": "3.10.8"
  }
 },
 "nbformat": 4,
 "nbformat_minor": 5
}
